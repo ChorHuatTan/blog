{
 "cells": [
  {
   "cell_type": "code",
   "execution_count": 1,
   "metadata": {},
   "outputs": [],
   "source": [
    "import pandas as pd\n",
    "import numpy as np\n",
    "import seaborn as sns\n",
    "import matplotlib.pyplot as plt\n",
    "from sklearn.preprocessing import LabelEncoder\n",
    "from sklearn.decomposition import PCA\n",
    "from sklearn.model_selection import train_test_split\n",
    "import spacy\n",
    "from tqdm import tqdm_notebook as tqdm\n",
    "import joblib"
   ]
  },
  {
   "cell_type": "code",
   "execution_count": 59,
   "metadata": {},
   "outputs": [],
   "source": [
    "#get list of sellers for each product\n",
    "#get category. Maybe subcategory\n",
    "#write evaluation class"
   ]
  },
  {
   "cell_type": "code",
   "execution_count": 2,
   "metadata": {},
   "outputs": [],
   "source": [
    "data = pd.read_csv('../data/amazon_co-ecommerce_sample.csv')"
   ]
  },
  {
   "cell_type": "code",
   "execution_count": 3,
   "metadata": {},
   "outputs": [
    {
     "data": {
      "text/plain": [
       "Index(['uniq_id', 'product_name', 'manufacturer', 'price',\n",
       "       'number_available_in_stock', 'number_of_reviews',\n",
       "       'number_of_answered_questions', 'average_review_rating',\n",
       "       'amazon_category_and_sub_category',\n",
       "       'customers_who_bought_this_item_also_bought', 'description',\n",
       "       'product_information', 'product_description',\n",
       "       'items_customers_buy_after_viewing_this_item',\n",
       "       'customer_questions_and_answers', 'customer_reviews', 'sellers'],\n",
       "      dtype='object')"
      ]
     },
     "execution_count": 3,
     "metadata": {},
     "output_type": "execute_result"
    }
   ],
   "source": [
    "data.columns"
   ]
  },
  {
   "cell_type": "code",
   "execution_count": 4,
   "metadata": {},
   "outputs": [],
   "source": [
    "data = data[['product_name', 'manufacturer', 'price', 'number_of_reviews', 'average_review_rating',\n",
    "            'amazon_category_and_sub_category', 'product_information', 'product_description',\n",
    "            'customer_reviews', 'sellers']]"
   ]
  },
  {
   "cell_type": "code",
   "execution_count": 5,
   "metadata": {},
   "outputs": [
    {
     "data": {
      "text/html": [
       "<div>\n",
       "<style scoped>\n",
       "    .dataframe tbody tr th:only-of-type {\n",
       "        vertical-align: middle;\n",
       "    }\n",
       "\n",
       "    .dataframe tbody tr th {\n",
       "        vertical-align: top;\n",
       "    }\n",
       "\n",
       "    .dataframe thead th {\n",
       "        text-align: right;\n",
       "    }\n",
       "</style>\n",
       "<table border=\"1\" class=\"dataframe\">\n",
       "  <thead>\n",
       "    <tr style=\"text-align: right;\">\n",
       "      <th></th>\n",
       "      <th>product_name</th>\n",
       "      <th>manufacturer</th>\n",
       "      <th>price</th>\n",
       "      <th>number_of_reviews</th>\n",
       "      <th>average_review_rating</th>\n",
       "      <th>amazon_category_and_sub_category</th>\n",
       "      <th>product_information</th>\n",
       "      <th>product_description</th>\n",
       "      <th>customer_reviews</th>\n",
       "      <th>sellers</th>\n",
       "    </tr>\n",
       "  </thead>\n",
       "  <tbody>\n",
       "    <tr>\n",
       "      <td>0</td>\n",
       "      <td>Hornby 2014 Catalogue</td>\n",
       "      <td>Hornby</td>\n",
       "      <td>£3.42</td>\n",
       "      <td>15</td>\n",
       "      <td>4.9 out of 5 stars</td>\n",
       "      <td>Hobbies &gt; Model Trains &amp; Railway Sets &gt; Rail V...</td>\n",
       "      <td>Technical Details Item Weight640 g Product Dim...</td>\n",
       "      <td>Product Description Hornby 2014 Catalogue Box ...</td>\n",
       "      <td>Worth Buying For The Pictures Alone (As Ever) ...</td>\n",
       "      <td>{\"seller\"=&gt;[{\"Seller_name_1\"=&gt;\"Amazon.co.uk\", ...</td>\n",
       "    </tr>\n",
       "    <tr>\n",
       "      <td>1</td>\n",
       "      <td>FunkyBuys® Large Christmas Holiday Express Fes...</td>\n",
       "      <td>FunkyBuys</td>\n",
       "      <td>£16.99</td>\n",
       "      <td>2</td>\n",
       "      <td>4.5 out of 5 stars</td>\n",
       "      <td>Hobbies &gt; Model Trains &amp; Railway Sets &gt; Rail V...</td>\n",
       "      <td>Technical Details Manufacturer recommended age...</td>\n",
       "      <td>Size Name:Large FunkyBuys® Large Christmas Hol...</td>\n",
       "      <td>Four Stars // 4.0 // 18 Dec. 2015 // By\\n    \\...</td>\n",
       "      <td>{\"seller\"=&gt;{\"Seller_name_1\"=&gt;\"UHD WHOLESALE\", ...</td>\n",
       "    </tr>\n",
       "    <tr>\n",
       "      <td>2</td>\n",
       "      <td>CLASSIC TOY TRAIN SET TRACK CARRIAGES LIGHT EN...</td>\n",
       "      <td>ccf</td>\n",
       "      <td>£9.99</td>\n",
       "      <td>17</td>\n",
       "      <td>3.9 out of 5 stars</td>\n",
       "      <td>Hobbies &gt; Model Trains &amp; Railway Sets &gt; Rail V...</td>\n",
       "      <td>Technical Details Manufacturer recommended age...</td>\n",
       "      <td>BIG CLASSIC TOY TRAIN SET TRACK CARRIAGE LIGHT...</td>\n",
       "      <td>**Highly Recommended!** // 5.0 // 26 May 2015 ...</td>\n",
       "      <td>{\"seller\"=&gt;[{\"Seller_name_1\"=&gt;\"DEAL-BOX\", \"Sel...</td>\n",
       "    </tr>\n",
       "    <tr>\n",
       "      <td>3</td>\n",
       "      <td>HORNBY Coach R4410A BR Hawksworth Corridor 3rd</td>\n",
       "      <td>Hornby</td>\n",
       "      <td>£39.99</td>\n",
       "      <td>1</td>\n",
       "      <td>5.0 out of 5 stars</td>\n",
       "      <td>Hobbies &gt; Model Trains &amp; Railway Sets &gt; Rail V...</td>\n",
       "      <td>Technical Details Item Weight259 g Product Dim...</td>\n",
       "      <td>Hornby 00 Gauge BR Hawksworth 3rd Class W 2107...</td>\n",
       "      <td>I love it // 5.0 // 22 July 2013 // By\\n    \\n...</td>\n",
       "      <td>NaN</td>\n",
       "    </tr>\n",
       "    <tr>\n",
       "      <td>4</td>\n",
       "      <td>Hornby 00 Gauge 0-4-0 Gildenlow Salt Co. Steam...</td>\n",
       "      <td>Hornby</td>\n",
       "      <td>£32.19</td>\n",
       "      <td>3</td>\n",
       "      <td>4.7 out of 5 stars</td>\n",
       "      <td>Hobbies &gt; Model Trains &amp; Railway Sets &gt; Rail V...</td>\n",
       "      <td>Technical Details Item Weight159 g Product Dim...</td>\n",
       "      <td>Product Description Hornby RailRoad 0-4-0 Gild...</td>\n",
       "      <td>Birthday present // 5.0 // 14 April 2014 // By...</td>\n",
       "      <td>NaN</td>\n",
       "    </tr>\n",
       "  </tbody>\n",
       "</table>\n",
       "</div>"
      ],
      "text/plain": [
       "                                        product_name manufacturer   price  \\\n",
       "0                              Hornby 2014 Catalogue       Hornby   £3.42   \n",
       "1  FunkyBuys® Large Christmas Holiday Express Fes...    FunkyBuys  £16.99   \n",
       "2  CLASSIC TOY TRAIN SET TRACK CARRIAGES LIGHT EN...          ccf   £9.99   \n",
       "3     HORNBY Coach R4410A BR Hawksworth Corridor 3rd       Hornby  £39.99   \n",
       "4  Hornby 00 Gauge 0-4-0 Gildenlow Salt Co. Steam...       Hornby  £32.19   \n",
       "\n",
       "  number_of_reviews average_review_rating  \\\n",
       "0                15    4.9 out of 5 stars   \n",
       "1                 2    4.5 out of 5 stars   \n",
       "2                17    3.9 out of 5 stars   \n",
       "3                 1    5.0 out of 5 stars   \n",
       "4                 3    4.7 out of 5 stars   \n",
       "\n",
       "                    amazon_category_and_sub_category  \\\n",
       "0  Hobbies > Model Trains & Railway Sets > Rail V...   \n",
       "1  Hobbies > Model Trains & Railway Sets > Rail V...   \n",
       "2  Hobbies > Model Trains & Railway Sets > Rail V...   \n",
       "3  Hobbies > Model Trains & Railway Sets > Rail V...   \n",
       "4  Hobbies > Model Trains & Railway Sets > Rail V...   \n",
       "\n",
       "                                 product_information  \\\n",
       "0  Technical Details Item Weight640 g Product Dim...   \n",
       "1  Technical Details Manufacturer recommended age...   \n",
       "2  Technical Details Manufacturer recommended age...   \n",
       "3  Technical Details Item Weight259 g Product Dim...   \n",
       "4  Technical Details Item Weight159 g Product Dim...   \n",
       "\n",
       "                                 product_description  \\\n",
       "0  Product Description Hornby 2014 Catalogue Box ...   \n",
       "1  Size Name:Large FunkyBuys® Large Christmas Hol...   \n",
       "2  BIG CLASSIC TOY TRAIN SET TRACK CARRIAGE LIGHT...   \n",
       "3  Hornby 00 Gauge BR Hawksworth 3rd Class W 2107...   \n",
       "4  Product Description Hornby RailRoad 0-4-0 Gild...   \n",
       "\n",
       "                                    customer_reviews  \\\n",
       "0  Worth Buying For The Pictures Alone (As Ever) ...   \n",
       "1  Four Stars // 4.0 // 18 Dec. 2015 // By\\n    \\...   \n",
       "2  **Highly Recommended!** // 5.0 // 26 May 2015 ...   \n",
       "3  I love it // 5.0 // 22 July 2013 // By\\n    \\n...   \n",
       "4  Birthday present // 5.0 // 14 April 2014 // By...   \n",
       "\n",
       "                                             sellers  \n",
       "0  {\"seller\"=>[{\"Seller_name_1\"=>\"Amazon.co.uk\", ...  \n",
       "1  {\"seller\"=>{\"Seller_name_1\"=>\"UHD WHOLESALE\", ...  \n",
       "2  {\"seller\"=>[{\"Seller_name_1\"=>\"DEAL-BOX\", \"Sel...  \n",
       "3                                                NaN  \n",
       "4                                                NaN  "
      ]
     },
     "execution_count": 5,
     "metadata": {},
     "output_type": "execute_result"
    }
   ],
   "source": [
    "data.head()"
   ]
  },
  {
   "cell_type": "code",
   "execution_count": 6,
   "metadata": {},
   "outputs": [],
   "source": [
    "def get_rating(rat):\n",
    "    try:\n",
    "        return float(rat[0:3])\n",
    "    except: \n",
    "        return np.nan\n",
    "    \n",
    "def get_price(p):\n",
    "    try:\n",
    "        p = float(p[1:])\n",
    "        return p\n",
    "    except:\n",
    "        return np.nan\n",
    "\n",
    "def remove_commas(s):\n",
    "    s = str(s)\n",
    "    try:\n",
    "        return int(s.replace(',', ''))\n",
    "    except:\n",
    "        return np.nan\n",
    "\n",
    "def get_first_seller(sel):\n",
    "    try:\n",
    "        return sel.split('>')[2].split(',')[0]\n",
    "    except:\n",
    "        return 'unk'\n",
    "    \n",
    "def get_cat_sub_cat(c):\n",
    "    try:\n",
    "        cats = c.split('>')\n",
    "        return cats[0], cats[1]\n",
    "    except:\n",
    "        return 'unk', 'unk'"
   ]
  },
  {
   "cell_type": "code",
   "execution_count": 7,
   "metadata": {},
   "outputs": [],
   "source": [
    "data['average_review_rating'] = data['average_review_rating'].apply(get_rating)\n",
    "data['price'] = data['price'].apply(get_price)\n",
    "data['number_of_reviews'] = data['number_of_reviews'].apply(remove_commas)\n",
    "data['sellers'] = data['sellers'].apply(get_first_seller)\n",
    "data['cat_sub_cat']= data['amazon_category_and_sub_category'].apply(get_cat_sub_cat)"
   ]
  },
  {
   "cell_type": "code",
   "execution_count": 8,
   "metadata": {},
   "outputs": [],
   "source": [
    "data.dropna(subset=['price'], inplace=True)\n",
    "data = data.reset_index(drop=True)"
   ]
  },
  {
   "cell_type": "code",
   "execution_count": 9,
   "metadata": {},
   "outputs": [],
   "source": [
    "data.loc[data['manufacturer'].isnull(), 'manufacturer'] = 'unk'"
   ]
  },
  {
   "cell_type": "code",
   "execution_count": 10,
   "metadata": {},
   "outputs": [],
   "source": [
    "le_man = LabelEncoder()\n",
    "le_sel = LabelEncoder()\n",
    "le_man.fit(data['manufacturer'])\n",
    "data['manufacturer'] = le_man.transform(data['manufacturer'])\n",
    "le_sel.fit(data['sellers'])\n",
    "data['sellers'] = le_sel.transform(data['sellers'])"
   ]
  },
  {
   "cell_type": "code",
   "execution_count": 11,
   "metadata": {},
   "outputs": [],
   "source": [
    "cat_sub = pd.DataFrame(data['cat_sub_cat'].to_list(), columns = ['cat', 'sub_cat'])\n",
    "data = pd.concat([data, cat_sub], 1)"
   ]
  },
  {
   "cell_type": "code",
   "execution_count": 12,
   "metadata": {},
   "outputs": [],
   "source": [
    "le_cat = LabelEncoder()\n",
    "le_sub = LabelEncoder()\n",
    "data['cat'] = le_cat.fit_transform(data['cat'])\n",
    "data['sub_cat'] = le_sub.fit_transform(data['sub_cat'])"
   ]
  },
  {
   "cell_type": "code",
   "execution_count": 13,
   "metadata": {},
   "outputs": [
    {
     "data": {
      "text/plain": [
       "['../le_sel.sklearn']"
      ]
     },
     "execution_count": 13,
     "metadata": {},
     "output_type": "execute_result"
    }
   ],
   "source": [
    "joblib.dump(le_cat, '../le_cat.sklearn')\n",
    "joblib.dump(le_sub, '../le_sub.sklearn')\n",
    "joblib.dump(le_man, '../le_man.sklearn')\n",
    "joblib.dump(le_sel, '../le_sel.sklearn')"
   ]
  },
  {
   "cell_type": "code",
   "execution_count": 14,
   "metadata": {},
   "outputs": [],
   "source": [
    "import en_core_web_sm\n",
    "nlp = en_core_web_sm.load()"
   ]
  },
  {
   "cell_type": "code",
   "execution_count": 15,
   "metadata": {},
   "outputs": [],
   "source": [
    "def get_text_feats(text):\n",
    "    s = nlp(text)\n",
    "    return s.vector"
   ]
  },
  {
   "cell_type": "code",
   "execution_count": 16,
   "metadata": {},
   "outputs": [],
   "source": [
    "data['product_name'] = data['product_name'].astype('str')\n",
    "data['product_information'] = data['product_information'].astype('str')\n",
    "data['product_description'] = data['product_description'].astype('str')\n",
    "data['customer_reviews'] = data['customer_reviews'].astype('str')"
   ]
  },
  {
   "cell_type": "code",
   "execution_count": 17,
   "metadata": {},
   "outputs": [
    {
     "data": {
      "application/vnd.jupyter.widget-view+json": {
       "model_id": "bdd952250ee747e8a6b42e11e8c79828",
       "version_major": 2,
       "version_minor": 0
      },
      "text/plain": [
       "HBox(children=(IntProgress(value=0, max=8546), HTML(value='')))"
      ]
     },
     "metadata": {},
     "output_type": "display_data"
    },
    {
     "name": "stdout",
     "output_type": "stream",
     "text": [
      "\n"
     ]
    }
   ],
   "source": [
    "#could run this in parallel\n",
    "name_feats = []\n",
    "info_feats = []\n",
    "description_feats = []\n",
    "review_feats = []\n",
    "for i in tqdm(range(data.shape[0])):\n",
    "    name_feats.append(get_text_feats(data['product_name'][i]))\n",
    "    info_feats.append(get_text_feats(data['product_information'][i]))\n",
    "    description_feats.append(get_text_feats(data['product_description'][i]))\n",
    "    review_feats.append(get_text_feats(data['customer_reviews'][i]))"
   ]
  },
  {
   "cell_type": "code",
   "execution_count": 18,
   "metadata": {},
   "outputs": [],
   "source": [
    "name_feats = np.stack(name_feats)\n",
    "info_feats = np.stack(info_feats)\n",
    "description_feats = np.stack(description_feats)\n",
    "review_feats = np.stack(review_feats)"
   ]
  },
  {
   "cell_type": "code",
   "execution_count": 19,
   "metadata": {},
   "outputs": [],
   "source": [
    "drop_cols = ['product_name', 'product_information', 'product_description', 'customer_reviews',\n",
    "            'amazon_category_and_sub_category', 'cat_sub_cat']\n",
    "data = data.drop(drop_cols, 1)"
   ]
  },
  {
   "cell_type": "code",
   "execution_count": 20,
   "metadata": {},
   "outputs": [],
   "source": [
    "train, test = train_test_split(data, test_size=.3, random_state=0)"
   ]
  },
  {
   "cell_type": "code",
   "execution_count": 21,
   "metadata": {},
   "outputs": [],
   "source": [
    "train_idx = list(train.index)\n",
    "test_idx = list(test.index)\n",
    "\n",
    "name_train = name_feats[train_idx]\n",
    "name_test = name_feats[test_idx]\n",
    "\n",
    "info_train = info_feats[train_idx]\n",
    "info_test = info_feats[test_idx]\n",
    "\n",
    "description_train = description_feats[train_idx]\n",
    "description_test = description_feats[test_idx]\n",
    "\n",
    "review_train = review_feats[train_idx]\n",
    "review_test = review_feats[test_idx]"
   ]
  },
  {
   "cell_type": "code",
   "execution_count": 22,
   "metadata": {},
   "outputs": [],
   "source": [
    "name_pca = PCA(n_components=1)\n",
    "info_pca = PCA(n_components=1)\n",
    "desc_pca = PCA(n_components=1)\n",
    "review_pca = PCA(n_components=1)\n",
    "train_names = name_pca.fit_transform(name_train)\n",
    "train_info = info_pca.fit_transform(info_train)\n",
    "train_descs = desc_pca.fit_transform(description_train)\n",
    "train_reviews = review_pca.fit_transform(review_train)\n",
    "\n",
    "test_names = name_pca.transform(name_test)\n",
    "test_info = info_pca.transform(info_test)\n",
    "test_descs = desc_pca.transform(description_test)\n",
    "test_reviews = review_pca.transform(review_test)"
   ]
  },
  {
   "cell_type": "code",
   "execution_count": 23,
   "metadata": {},
   "outputs": [
    {
     "name": "stderr",
     "output_type": "stream",
     "text": [
      "C:\\Users\\nelso\\Anaconda3\\lib\\site-packages\\ipykernel_launcher.py:1: SettingWithCopyWarning: \n",
      "A value is trying to be set on a copy of a slice from a DataFrame.\n",
      "Try using .loc[row_indexer,col_indexer] = value instead\n",
      "\n",
      "See the caveats in the documentation: http://pandas.pydata.org/pandas-docs/stable/user_guide/indexing.html#returning-a-view-versus-a-copy\n",
      "  \"\"\"Entry point for launching an IPython kernel.\n",
      "C:\\Users\\nelso\\Anaconda3\\lib\\site-packages\\ipykernel_launcher.py:2: SettingWithCopyWarning: \n",
      "A value is trying to be set on a copy of a slice from a DataFrame.\n",
      "Try using .loc[row_indexer,col_indexer] = value instead\n",
      "\n",
      "See the caveats in the documentation: http://pandas.pydata.org/pandas-docs/stable/user_guide/indexing.html#returning-a-view-versus-a-copy\n",
      "  \n",
      "C:\\Users\\nelso\\Anaconda3\\lib\\site-packages\\ipykernel_launcher.py:3: SettingWithCopyWarning: \n",
      "A value is trying to be set on a copy of a slice from a DataFrame.\n",
      "Try using .loc[row_indexer,col_indexer] = value instead\n",
      "\n",
      "See the caveats in the documentation: http://pandas.pydata.org/pandas-docs/stable/user_guide/indexing.html#returning-a-view-versus-a-copy\n",
      "  This is separate from the ipykernel package so we can avoid doing imports until\n",
      "C:\\Users\\nelso\\Anaconda3\\lib\\site-packages\\ipykernel_launcher.py:4: SettingWithCopyWarning: \n",
      "A value is trying to be set on a copy of a slice from a DataFrame.\n",
      "Try using .loc[row_indexer,col_indexer] = value instead\n",
      "\n",
      "See the caveats in the documentation: http://pandas.pydata.org/pandas-docs/stable/user_guide/indexing.html#returning-a-view-versus-a-copy\n",
      "  after removing the cwd from sys.path.\n",
      "C:\\Users\\nelso\\Anaconda3\\lib\\site-packages\\ipykernel_launcher.py:6: SettingWithCopyWarning: \n",
      "A value is trying to be set on a copy of a slice from a DataFrame.\n",
      "Try using .loc[row_indexer,col_indexer] = value instead\n",
      "\n",
      "See the caveats in the documentation: http://pandas.pydata.org/pandas-docs/stable/user_guide/indexing.html#returning-a-view-versus-a-copy\n",
      "  \n",
      "C:\\Users\\nelso\\Anaconda3\\lib\\site-packages\\ipykernel_launcher.py:7: SettingWithCopyWarning: \n",
      "A value is trying to be set on a copy of a slice from a DataFrame.\n",
      "Try using .loc[row_indexer,col_indexer] = value instead\n",
      "\n",
      "See the caveats in the documentation: http://pandas.pydata.org/pandas-docs/stable/user_guide/indexing.html#returning-a-view-versus-a-copy\n",
      "  import sys\n",
      "C:\\Users\\nelso\\Anaconda3\\lib\\site-packages\\ipykernel_launcher.py:8: SettingWithCopyWarning: \n",
      "A value is trying to be set on a copy of a slice from a DataFrame.\n",
      "Try using .loc[row_indexer,col_indexer] = value instead\n",
      "\n",
      "See the caveats in the documentation: http://pandas.pydata.org/pandas-docs/stable/user_guide/indexing.html#returning-a-view-versus-a-copy\n",
      "  \n",
      "C:\\Users\\nelso\\Anaconda3\\lib\\site-packages\\ipykernel_launcher.py:9: SettingWithCopyWarning: \n",
      "A value is trying to be set on a copy of a slice from a DataFrame.\n",
      "Try using .loc[row_indexer,col_indexer] = value instead\n",
      "\n",
      "See the caveats in the documentation: http://pandas.pydata.org/pandas-docs/stable/user_guide/indexing.html#returning-a-view-versus-a-copy\n",
      "  if __name__ == '__main__':\n"
     ]
    }
   ],
   "source": [
    "train['name'] = train_names\n",
    "train['info'] = train_info\n",
    "train['desc'] = train_descs\n",
    "train['reviews'] = train_reviews\n",
    "\n",
    "test['name'] = test_names\n",
    "test['info'] = test_info\n",
    "test['desc'] = test_descs\n",
    "test['reviews'] = test_reviews"
   ]
  },
  {
   "cell_type": "code",
   "execution_count": 24,
   "metadata": {},
   "outputs": [
    {
     "name": "stderr",
     "output_type": "stream",
     "text": [
      "C:\\Users\\nelso\\Anaconda3\\lib\\site-packages\\pandas\\core\\indexing.py:494: SettingWithCopyWarning: \n",
      "A value is trying to be set on a copy of a slice from a DataFrame.\n",
      "Try using .loc[row_indexer,col_indexer] = value instead\n",
      "\n",
      "See the caveats in the documentation: http://pandas.pydata.org/pandas-docs/stable/user_guide/indexing.html#returning-a-view-versus-a-copy\n",
      "  self.obj[item] = s\n"
     ]
    }
   ],
   "source": [
    "train.loc[train['number_of_reviews'].isnull(), 'number_of_reviews'] = 0\n",
    "test.loc[test['number_of_reviews'].isnull(), 'number_of_reviews'] = 0\n",
    "\n",
    "train.loc[train['average_review_rating'].isnull(), 'average_review_rating'] = 0\n",
    "test.loc[test['average_review_rating'].isnull(), 'average_review_rating'] = 0"
   ]
  },
  {
   "cell_type": "code",
   "execution_count": 25,
   "metadata": {},
   "outputs": [
    {
     "data": {
      "text/plain": [
       "manufacturer             0\n",
       "price                    0\n",
       "number_of_reviews        0\n",
       "average_review_rating    0\n",
       "sellers                  0\n",
       "cat                      0\n",
       "sub_cat                  0\n",
       "name                     0\n",
       "info                     0\n",
       "desc                     0\n",
       "reviews                  0\n",
       "dtype: int64"
      ]
     },
     "execution_count": 25,
     "metadata": {},
     "output_type": "execute_result"
    }
   ],
   "source": [
    "test.isnull().sum()"
   ]
  },
  {
   "cell_type": "code",
   "execution_count": 26,
   "metadata": {},
   "outputs": [],
   "source": [
    "train.to_csv('../data/amazon_train.csv', index=False)\n",
    "test.to_csv('../data/amazon_test.csv', index=False)"
   ]
  },
  {
   "cell_type": "code",
   "execution_count": null,
   "metadata": {},
   "outputs": [],
   "source": []
  }
 ],
 "metadata": {
  "kernelspec": {
   "display_name": "Python 3",
   "language": "python",
   "name": "python3"
  },
  "language_info": {
   "codemirror_mode": {
    "name": "ipython",
    "version": 3
   },
   "file_extension": ".py",
   "mimetype": "text/x-python",
   "name": "python",
   "nbconvert_exporter": "python",
   "pygments_lexer": "ipython3",
   "version": "3.7.3"
  }
 },
 "nbformat": 4,
 "nbformat_minor": 2
}
